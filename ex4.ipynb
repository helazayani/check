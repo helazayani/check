{
 "cells": [
  {
   "cell_type": "code",
   "execution_count": 13,
   "metadata": {},
   "outputs": [
    {
     "name": "stdin",
     "output_type": "stream",
     "text": [
      "donner un entier n 5\n",
      "donner une chaine de caracteres tableeau\n"
     ]
    },
    {
     "name": "stdout",
     "output_type": "stream",
     "text": [
      "tableau\n"
     ]
    }
   ],
   "source": [
    "n=input(\"donner un entier n\")\n",
    "n=int(n)\n",
    "char=input(\"donner une chaine de caracteres\")\n",
    "\n",
    "#char1=\"\"\n",
    "#print(char1,\"njareb\")\n",
    "#char1[0]=char[2]\n",
    "i=len(char)\n",
    "if (n>i-1):\n",
    "     print(\"erreur\")\n",
    "elif len(char)==0:\n",
    "    print(\"erreur\")\n",
    "   # for y in range(0,n-1):\n",
    "        #char1[y]=char[y]\n",
    "       \n",
    "print(char[0:n]+char[n+1:i])\n",
    "   # def missing_char(char,n)\n",
    "#return missing_char(char,n-1)\n",
    "#char.title()\n",
    "#for y in range(0,i-1):\n",
    " # if (y==(n-1)):\n",
    "    # continue\n",
    "#else:\n",
    "   # char1[y]=char[y]\n",
    "    \n",
    "    "
   ]
  },
  {
   "cell_type": "code",
   "execution_count": null,
   "metadata": {},
   "outputs": [],
   "source": []
  }
 ],
 "metadata": {
  "kernelspec": {
   "display_name": "Python 3",
   "language": "python",
   "name": "python3"
  },
  "language_info": {
   "codemirror_mode": {
    "name": "ipython",
    "version": 3
   },
   "file_extension": ".py",
   "mimetype": "text/x-python",
   "name": "python",
   "nbconvert_exporter": "python",
   "pygments_lexer": "ipython3",
   "version": "3.8.3"
  }
 },
 "nbformat": 4,
 "nbformat_minor": 4
}
